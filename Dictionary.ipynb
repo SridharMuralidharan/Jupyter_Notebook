{
 "cells": [
  {
   "cell_type": "code",
   "execution_count": null,
   "metadata": {},
   "outputs": [],
   "source": [
    "# Dictionaries mapping of keys to values.\n",
    "\n",
    "fred = { 'mike': 456, 'bill': 399, 'sarah': 521 }\n",
    "\n",
    "# Subscripts.\n",
    "try:\n",
    "    print(fred)\n",
    "    print(fred['bill'])\n",
    "    print(fred['nora'])\n",
    "    print(\"Won't see this!\")\n",
    "except KeyError as rest:\n",
    "    print(\"Lookup failed:\", rest)\n",
    "print()\n",
    "\n",
    "# Entries can be added, udated, or deleted.\n",
    "fred['bill'] = 'Sopwith Camel'\n",
    "fred['wilma'] = 2233\n",
    "del fred['mike']\n",
    "print(fred)\n",
    "print()\n",
    "\n",
    "# Get all the keys.\n",
    "print(fred.keys())\n",
    "for k in fred.keys():\n",
    "    print(k, \"=>\", fred[k])\n",
    "print()\n",
    "\n",
    "# Test for presence of a key.\n",
    "for t in [ 'zingo', 'sarah', 'bill', 'wilma' ]:\n",
    "    print(t,end=' ')\n",
    "    if t in fred:\n",
    "        print('=>', fred[t])\n",
    "    else:\n",
    "        print('is not present.')"
   ]
  },
  {
   "cell_type": "code",
   "execution_count": null,
   "metadata": {},
   "outputs": [],
   "source": []
  }
 ],
 "metadata": {
  "kernelspec": {
   "display_name": "Python 3",
   "language": "python",
   "name": "python3"
  },
  "language_info": {
   "codemirror_mode": {
    "name": "ipython",
    "version": 3
   },
   "file_extension": ".py",
   "mimetype": "text/x-python",
   "name": "python",
   "nbconvert_exporter": "python",
   "pygments_lexer": "ipython3",
   "version": "3.6.5"
  }
 },
 "nbformat": 4,
 "nbformat_minor": 2
}
